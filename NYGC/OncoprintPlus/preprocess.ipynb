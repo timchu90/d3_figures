{
 "cells": [
  {
   "cell_type": "code",
   "execution_count": 1,
   "metadata": {},
   "outputs": [],
   "source": [
    "import pandas as pd\n",
    "import os\n",
    "import numpy as np"
   ]
  },
  {
   "cell_type": "code",
   "execution_count": 2,
   "metadata": {},
   "outputs": [],
   "source": [
    "def impact(x): \n",
    "    if x == 'HIGH':\n",
    "        return 3\n",
    "    elif x == 'MODERATE':\n",
    "        return 2\n",
    "    else:\n",
    "        return 1\n",
    "\n",
    "def resolve_duplicates(dataframe, key):\n",
    "    dupes = dataframe[dataframe.duplicated([key],keep=False)]\n",
    "    dupes = dupes.sort_values(by=key)\n",
    "    dataframe.drop_duplicates(subset=key, keep=False, inplace=True)\n",
    "    i = 0\n",
    "    while i < len(dupes.index):\n",
    "        dupeframe = dupes[dupes[key] == dupes.iloc[i][key]]\n",
    "        if key == \"Hugo_Symbol\":\n",
    "            dupeframe['IMPACT'] = pd.Categorical(dupeframe['IMPACT'], [\"HIGH\", \"MODERATE\",\"LOW\",\"MODIFIER\"])\n",
    "            dupeframe.sort_values(\"IMPACT\", inplace=True)\n",
    "        else:\n",
    "            dupeframe.sort_values(\"ploidy_adj_cn\", inplace=True, ascending=False)\n",
    "        #print(dupeframe)\n",
    "        #print(dupeframe.iloc[0])\n",
    "        dataframe = dataframe.append(dupeframe.iloc[0])\n",
    "        i = i + len(dupeframe.index)\n",
    "    return dataframe"
   ]
  },
  {
   "cell_type": "code",
   "execution_count": 3,
   "metadata": {
    "scrolled": false
   },
   "outputs": [
    {
     "name": "stdout",
     "output_type": "stream",
     "text": [
      "Processsing MAF files:\n",
      "Reading in file: PM12-Z10-1-Case-WGS--PM12-EBC2-1-Ctrl-WGS.snv.indel.final.v6.annotated.maf\n"
     ]
    },
    {
     "name": "stderr",
     "output_type": "stream",
     "text": [
      "/usr/local/lib/python3.7/site-packages/ipykernel_launcher.py:17: SettingWithCopyWarning: \n",
      "A value is trying to be set on a copy of a slice from a DataFrame.\n",
      "Try using .loc[row_indexer,col_indexer] = value instead\n",
      "\n",
      "See the caveats in the documentation: https://pandas.pydata.org/pandas-docs/stable/user_guide/indexing.html#returning-a-view-versus-a-copy\n",
      "/usr/local/lib/python3.7/site-packages/ipykernel_launcher.py:18: SettingWithCopyWarning: \n",
      "A value is trying to be set on a copy of a slice from a DataFrame\n",
      "\n",
      "See the caveats in the documentation: https://pandas.pydata.org/pandas-docs/stable/user_guide/indexing.html#returning-a-view-versus-a-copy\n"
     ]
    },
    {
     "name": "stdout",
     "output_type": "stream",
     "text": [
      "Reading in file: PM1232-Z16-1-Case-WGS--PM1232-Z8-1-Ctrl-WGS.snv.indel.final.v6.annotated.maf\n",
      "Reading in file: PM1232-Z4-1-Case-WGS--PM1232-Z8-1-Ctrl-WGS.snv.indel.final.v6.annotated.maf\n",
      "Reading in file: PM12_Z4_2_Case--PM12_EBC2_2_Ctrl.snv.indel.final.v6.annotated.maf\n",
      "Reading in file: PM0_Tissue_LM2_A--PM0_D11.snv.indel.final.v6.annotated.maf\n",
      "Reading in file: PM1024-Z1-1-Case-WGS--PM1024-EBC2-1-WGS.snv.indel.final.v6.annotated.maf\n",
      "Reading in file: PM12_Z13_1_Case--PM12_EBC2_2_Ctrl.snv.indel.final.v6.annotated.maf\n",
      "Reading in file: PM1207-Z4-1-Case-WGS--PM1207-EBC2-1-Ctrl-WGS.snv.indel.final.v6.annotated.maf\n",
      "Reading in file: PM0_Tissue_LM1_A--PM0_D11.snv.indel.final.v6.annotated.maf\n",
      "Reading in file: PM1207-Z1-1-Case-WGS--PM1207-EBC2-1-Ctrl-WGS.snv.indel.final.v6.annotated.maf\n"
     ]
    }
   ],
   "source": [
    "maf_dir = \"MAF/\"\n",
    "maf_df = pd.DataFrame()\n",
    "print(\"Processsing MAF files:\")\n",
    "for i in os.listdir(maf_dir):\n",
    "    if i.endswith('.maf') or i.endswith('.MAF'):\n",
    "        print(\"Reading in file: \" + i)\n",
    "        input_df = pd.read_csv(maf_dir + \"/\" + i,sep=\"\\t\")\n",
    "        input_df = resolve_duplicates(input_df, \"Hugo_Symbol\")\n",
    "        maf_df = maf_df.append(input_df)\n",
    "        \n",
    "#filter for HIGH or MODERATE impact rows\n",
    "maf_df = maf_df[(maf_df[\"IMPACT\"]==\"HIGH\") | (maf_df[\"IMPACT\"]==\"MODERATE\")]\n"
   ]
  },
  {
   "cell_type": "code",
   "execution_count": 61,
   "metadata": {
    "scrolled": true
   },
   "outputs": [
    {
     "name": "stdout",
     "output_type": "stream",
     "text": [
      "Processing BED files\n",
      "Reading in file: PM12_Z4_2_Case--PM12_EBC2_2_Ctrl.bed\n"
     ]
    },
    {
     "name": "stderr",
     "output_type": "stream",
     "text": [
      "/usr/local/lib/python3.7/site-packages/ipykernel_launcher.py:20: SettingWithCopyWarning: \n",
      "A value is trying to be set on a copy of a slice from a DataFrame\n",
      "\n",
      "See the caveats in the documentation: https://pandas.pydata.org/pandas-docs/stable/user_guide/indexing.html#returning-a-view-versus-a-copy\n"
     ]
    },
    {
     "name": "stdout",
     "output_type": "stream",
     "text": [
      "Reading in file: PM1207-Z1-1-Case-WGS--PM1207-EBC2-1-Ctrl-WGS.bed\n",
      "Reading in file: PM1232-Z16-1-Case-WGS--PM1232-Z8-1-Ctrl-WGS.bed\n",
      "Reading in file: PM0_Tissue_LM1_A--PM0_D11.bed\n",
      "Reading in file: PM1207-Z4-1-Case-WGS--PM1207-EBC2-1-Ctrl-WGS.bed\n",
      "Reading in file: PM0_Tissue_LM2_A--PM0_D11.bed\n",
      "Reading in file: PM1232-Z4-1-Case-WGS--PM1232-Z8-1-Ctrl-WGS.bed\n",
      "Reading in file: PM12_Z13_1_Case--PM12_EBC2_2_Ctrl.bed\n",
      "Reading in file: PM12-Z10-1-Case-WGS--PM12-EBC2-1-Ctrl-WGS.bed\n",
      "Reading in file: PM1024-Z1-1-Case-WGS--PM1024-EBC2-1-WGS.bed\n"
     ]
    }
   ],
   "source": [
    "bed_dir = \"BED/\"\n",
    "bed_df = pd.DataFrame()\n",
    "print(\"Processing BED files\")\n",
    "for i in os.listdir(bed_dir):\n",
    "    if i.endswith('.BED') or i.endswith('.bed'):\n",
    "        print(\"Reading in file: \" + i)\n",
    "        input_df = pd.read_csv(bed_dir + \"/\" + i,sep=\"\\t\")\n",
    "        #adjust for ploidy\n",
    "        input_df['ploidy_adj_cn'] = abs(input_df['cnv_total_cn'] - 2) #adjust for ploidy 2 for now\n",
    "        input_df = resolve_duplicates(input_df, \"gene_name\")\n",
    "        bed_df = bed_df.append(input_df)\n",
    "        \n",
    "#only include focal events\n",
    "bed_df = bed_df[bed_df['cnv_end'] - bed_df['cnv_start'] <= 3000000]"
   ]
  },
  {
   "cell_type": "code",
   "execution_count": 184,
   "metadata": {},
   "outputs": [],
   "source": [
    "#sample\tgene\timpact\tcnv\tploidy(?)\tmetadata(comma separated?)\n",
    "\n",
    "df = pd.merge(maf_df, bed_df, how='outer', left_on=['Hugo_Symbol','Tumor_Sample_Barcode', 'Matched_Norm_Sample_Barcode'],right_on=['gene_name','tumor','normal'], validate=\"one_to_one\")"
   ]
  },
  {
   "cell_type": "code",
   "execution_count": 185,
   "metadata": {},
   "outputs": [],
   "source": [
    "def merge_keys(row):\n",
    "    if pd.isnull(row['Hugo_Symbol']):\n",
    "        gene = row['gene_name']\n",
    "    else:\n",
    "        gene = row['Hugo_Symbol']\n",
    "    if pd.isnull(row['Tumor_Sample_Barcode']):\n",
    "        sample = str(row['tumor']) + '--' + str(row['normal'])\n",
    "    else:\n",
    "        sample = str(row['Tumor_Sample_Barcode']) + '--' + str(row['Matched_Norm_Sample_Barcode'])\n",
    "    \n",
    "    return gene, sample\n",
    "\n",
    "newcols = df.apply(merge_keys, axis=1, result_type='expand')\n",
    "df['Gene'] = newcols[0]\n",
    "df['Sample'] = newcols[1]\n",
    "\n",
    "\n",
    "#df[['Gene','Sample']] = test"
   ]
  },
  {
   "cell_type": "code",
   "execution_count": 186,
   "metadata": {},
   "outputs": [],
   "source": [
    "geneList = df['Gene'].unique()"
   ]
  },
  {
   "cell_type": "code",
   "execution_count": 190,
   "metadata": {},
   "outputs": [
    {
     "name": "stdout",
     "output_type": "stream",
     "text": [
      "2\n",
      "3\n",
      "0\n",
      "0\n",
      "0\n",
      "0\n",
      "            gene score\n",
      "237      Unknown    80\n",
      "11         OBSCN    70\n",
      "331         TP53    68\n",
      "26        TRBV17    64\n",
      "86         BRCA2    63\n",
      "...          ...   ...\n",
      "875   AC064847.1     0\n",
      "876     NDUFB4P4     0\n",
      "877        KIF3C     0\n",
      "878      UQCRHP2     0\n",
      "1875  AC004223.1     0\n",
      "\n",
      "[15788 rows x 2 columns]\n"
     ]
    }
   ],
   "source": [
    "#python implementation of the app side ranking? not sure to include it here or in app\n",
    "\n",
    "#ploidy = 2 #harcode for now\n",
    "#rankList = pd.DataFrame(columns = [\"gene\",\"score\"])\n",
    "#rankList\n",
    "#for i in geneList:\n",
    "#    geneData = df[df['Gene'] == i]\n",
    "#    high_count = len(geneData[geneData['IMPACT'] == \"HIGH\"])\n",
    "#    moderate_count = len(geneData[geneData['IMPACT'] == \"MODERATE\"])\n",
    "#    high_amp_count = len(geneData[geneData['cnv_total_cn'] - ploidy >= 2])\n",
    "#    amp_count = len(geneData.query('cnv_total_cn - @ploidy < 2 & cnv_total_cn - @ploidy >= 1'))\n",
    "#    deep_del_count = len(geneData[geneData['cnv_total_cn'] - ploidy <= -2])\n",
    "#    del_count = len(geneData.query('cnv_total_cn - @ploidy > -2 & cnv_total_cn - @ploidy <= -1'))\n",
    "#    score = high_count * 20 + moderate_count * 10 + deep_del_count * 4 + high_amp_count * 3 + del_count * 2 + amp_count \n",
    "#    rankList = rankList.append({'gene':i, 'score': score}, ignore_index = True)\n",
    "#    \n",
    "#rankList.sort_values('score', ascending=False, inplace=True)\n",
    "#print(rankList)"
   ]
  },
  {
   "cell_type": "code",
   "execution_count": 172,
   "metadata": {},
   "outputs": [
    {
     "name": "stdout",
     "output_type": "stream",
     "text": [
      "Making oncomatrix...\n",
      "Done.\n"
     ]
    }
   ],
   "source": [
    "print(\"Making oncomatrix...\")\n",
    "output = df[[\"Sample\",\"Gene\",\"IMPACT\",\"cnv_total_cn\"]]\n",
    "output.columns = [\"Sample\",\"Gene\",\"Impact\",\"CNV\"]\n",
    "output.to_csv(\"./oncomatrix.txt\",sep=\"\\t\",index=False)\n",
    "\n",
    "print(\"Done.\")"
   ]
  },
  {
   "cell_type": "code",
   "execution_count": null,
   "metadata": {},
   "outputs": [],
   "source": []
  }
 ],
 "metadata": {
  "kernelspec": {
   "display_name": "Python 3",
   "language": "python",
   "name": "python3"
  },
  "language_info": {
   "codemirror_mode": {
    "name": "ipython",
    "version": 3
   },
   "file_extension": ".py",
   "mimetype": "text/x-python",
   "name": "python",
   "nbconvert_exporter": "python",
   "pygments_lexer": "ipython3",
   "version": "3.7.2"
  }
 },
 "nbformat": 4,
 "nbformat_minor": 4
}
